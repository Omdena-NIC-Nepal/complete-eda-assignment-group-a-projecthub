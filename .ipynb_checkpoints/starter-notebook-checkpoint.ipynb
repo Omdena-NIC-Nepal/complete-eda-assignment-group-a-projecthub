{
 "cells": [
  {
   "cell_type": "markdown",
   "metadata": {},
   "source": [
    "# Climate Data Exploratory Data Analysis\n",
    "\n",
    "## Introduction\n",
    "This notebook contains an exploratory data analysis of climate data from 1900 to 2023. The dataset includes global temperatures, CO2 concentration, sea level rise, and Arctic ice area.\n",
    "\n",
    "Your task is to perform a comprehensive EDA following the requirements in the README.md file."
   ]
  },
  {
   "cell_type": "code",
   "execution_count": 6,
   "metadata": {},
   "outputs": [],
   "source": [
    "# Import required libraries\n",
    "import pandas as pd\n",
    "import numpy as np\n",
    "import matplotlib.pyplot as plt\n",
    "import seaborn as sns\n",
    "\n",
    "# Set plot styling\n",
    "plt.style.use('seaborn-v0_8-whitegrid')\n",
    "sns.set_palette('viridis')\n",
    "%matplotlib inline"
   ]
  },
  {
   "cell_type": "markdown",
   "metadata": {},
   "source": [
    "## 1. Data Preparation\n",
    "\n",
    "Load the climate data and perform necessary cleaning and aggregation."
   ]
  },
  {
   "cell_type": "markdown",
   "metadata": {},
   "source": [
    "#### Load the dataset"
   ]
  },
  {
   "cell_type": "code",
   "execution_count": 18,
   "metadata": {},
   "outputs": [
    {
     "data": {
      "text/html": [
       "<div>\n",
       "<style scoped>\n",
       "    .dataframe tbody tr th:only-of-type {\n",
       "        vertical-align: middle;\n",
       "    }\n",
       "\n",
       "    .dataframe tbody tr th {\n",
       "        vertical-align: top;\n",
       "    }\n",
       "\n",
       "    .dataframe thead th {\n",
       "        text-align: right;\n",
       "    }\n",
       "</style>\n",
       "<table border=\"1\" class=\"dataframe\">\n",
       "  <thead>\n",
       "    <tr style=\"text-align: right;\">\n",
       "      <th></th>\n",
       "      <th>Year</th>\n",
       "      <th>Global Average Temperature (°C)</th>\n",
       "      <th>CO2 Concentration (ppm)</th>\n",
       "      <th>Sea Level Rise (mm)</th>\n",
       "      <th>Arctic Ice Area (million km²)</th>\n",
       "    </tr>\n",
       "  </thead>\n",
       "  <tbody>\n",
       "    <tr>\n",
       "      <th>0</th>\n",
       "      <td>1948</td>\n",
       "      <td>13.17</td>\n",
       "      <td>397.04</td>\n",
       "      <td>116.25</td>\n",
       "      <td>5.97</td>\n",
       "    </tr>\n",
       "    <tr>\n",
       "      <th>1</th>\n",
       "      <td>1996</td>\n",
       "      <td>13.10</td>\n",
       "      <td>313.17</td>\n",
       "      <td>277.92</td>\n",
       "      <td>9.66</td>\n",
       "    </tr>\n",
       "    <tr>\n",
       "      <th>2</th>\n",
       "      <td>2015</td>\n",
       "      <td>14.67</td>\n",
       "      <td>311.95</td>\n",
       "      <td>290.32</td>\n",
       "      <td>8.40</td>\n",
       "    </tr>\n",
       "    <tr>\n",
       "      <th>3</th>\n",
       "      <td>1966</td>\n",
       "      <td>14.79</td>\n",
       "      <td>304.25</td>\n",
       "      <td>189.71</td>\n",
       "      <td>11.83</td>\n",
       "    </tr>\n",
       "    <tr>\n",
       "      <th>4</th>\n",
       "      <td>1992</td>\n",
       "      <td>13.15</td>\n",
       "      <td>354.52</td>\n",
       "      <td>14.84</td>\n",
       "      <td>11.23</td>\n",
       "    </tr>\n",
       "  </tbody>\n",
       "</table>\n",
       "</div>"
      ],
      "text/plain": [
       "   Year  Global Average Temperature (°C)  CO2 Concentration (ppm)  \\\n",
       "0  1948                            13.17                   397.04   \n",
       "1  1996                            13.10                   313.17   \n",
       "2  2015                            14.67                   311.95   \n",
       "3  1966                            14.79                   304.25   \n",
       "4  1992                            13.15                   354.52   \n",
       "\n",
       "   Sea Level Rise (mm)  Arctic Ice Area (million km²)  \n",
       "0               116.25                           5.97  \n",
       "1               277.92                           9.66  \n",
       "2               290.32                           8.40  \n",
       "3               189.71                          11.83  \n",
       "4                14.84                          11.23  "
      ]
     },
     "execution_count": 18,
     "metadata": {},
     "output_type": "execute_result"
    }
   ],
   "source": [
    "\n",
    "df = pd.read_csv(r\"C:\\Users\\youg_\\complete-eda-assignment-group-a-projecthub\\data\\Climate_Change_Indicators.csv\") # Place the correct path to the file you are reading here (Make sure to load using the relative path)\n",
    "\n",
    "# Display the first few rows of the dataset\n",
    "df.head()"
   ]
  },
  {
   "cell_type": "code",
   "execution_count": 30,
   "metadata": {},
   "outputs": [
    {
     "name": "stdout",
     "output_type": "stream",
     "text": [
      "Dataset Information:\n",
      "<class 'pandas.core.frame.DataFrame'>\n",
      "RangeIndex: 1048576 entries, 0 to 1048575\n",
      "Data columns (total 5 columns):\n",
      " #   Column                           Non-Null Count    Dtype  \n",
      "---  ------                           --------------    -----  \n",
      " 0   Year                             1048576 non-null  int64  \n",
      " 1   Global Average Temperature (°C)  1048576 non-null  float64\n",
      " 2   CO2 Concentration (ppm)          1048576 non-null  float64\n",
      " 3   Sea Level Rise (mm)              1048576 non-null  float64\n",
      " 4   Arctic Ice Area (million km²)    1048576 non-null  float64\n",
      "dtypes: float64(4), int64(1)\n",
      "memory usage: 40.0 MB\n",
      "None\n",
      "\n",
      "Missing Values:\n",
      "Year                               0\n",
      "Global Average Temperature (°C)    0\n",
      "CO2 Concentration (ppm)            0\n",
      "Sea Level Rise (mm)                0\n",
      "Arctic Ice Area (million km²)      0\n",
      "dtype: int64\n"
     ]
    }
   ],
   "source": [
    "# Check for missing values and basic information about the dataset\n",
    "print(\"Dataset Information:\")\n",
    "print(df.info())\n",
    "print(\"\\nMissing Values:\")\n",
    "print(df.isnull().sum())"
   ]
  },
  {
   "cell_type": "code",
   "execution_count": null,
   "metadata": {},
   "outputs": [],
   "source": [
    "# TODO: Aggregate data by year to create a 124-year time series\n",
    "# Your code here\n",
    "df_aggrigate = \n",
    "df_agg = df.groupby(\"Year\", as_index=False).mean()"
   ]
  },
  {
   "cell_type": "markdown",
   "metadata": {},
   "source": [
    "## 2. Univariate Analysis\n",
    "\n",
    "Analyze each climate variable independently."
   ]
  },
  {
   "cell_type": "code",
   "execution_count": 25,
   "metadata": {},
   "outputs": [],
   "source": [
    "# TODO: Perform univariate analysis for each climate variable\n",
    "# Include descriptive statistics and appropriate visualizations\n",
    "# Your code here"
   ]
  },
  {
   "cell_type": "markdown",
   "metadata": {},
   "source": [
    "#### Univariate Analysisfor Global Temperature Trend as per Years"
   ]
  },
  {
   "cell_type": "code",
   "execution_count": null,
   "metadata": {},
   "outputs": [],
   "source": [
    "plt.figure(figsize = (10,8))\n",
    "sns.lineplot(x = df[\"Year], y = df[\"Global Average Temperature (°C)\"], marker = \"o\")\n",
    "plt.xlabel(\"Year\")\n",
    "plt.ylabel(\"°C\")\n",
    "plt.title(\"Global Temperature Trend\")\n",
    "plt.show()\n",
    "\n",
    "# Descriptive Statistics\n",
    "df[\"Global Average Temperature (°C)\"].describe()"
   ]
  },
  {
   "cell_type": "markdown",
   "metadata": {},
   "source": [
    "#### Univariate Analysis for  \"CO2 Concentration (ppm)"
   ]
  },
  {
   "cell_type": "code",
   "execution_count": null,
   "metadata": {},
   "outputs": [],
   "source": [
    "plt.figure(figsize = (10,8))\n",
    "sns.lineplot(x = df[\"Year], y = df[\"CO2 Concentration (ppm)\"], marker = \"o\")\n",
    "plt.xlabel(\"Year\")\n",
    "plt.ylabel(\"ppm\")\n",
    "plt.title(\"CO2 Concentration in Differnt Years\")\n",
    "plt.show()\n",
    "\n",
    "# Descriptive Statistics\n",
    "df[\"CO2 Concentration (ppm)\"].describe()"
   ]
  },
  {
   "cell_type": "markdown",
   "metadata": {},
   "source": [
    "#### Univariate Analysis for Sea Level Rise (mm)"
   ]
  },
  {
   "cell_type": "code",
   "execution_count": null,
   "metadata": {},
   "outputs": [],
   "source": [
    "plt.figure(figsize=(10, 6))\n",
    "sns.lineplot(x=df[\"Year\"], y=df[\"Sea Level Rise (mm)\"], marker=\"o\")\n",
    "plt.xlabel(\"Year\")\n",
    "plt.ylabel(\"Sea Level Rise (mm)\")\n",
    "plt.title(\"Sea Level Rise Over the Years\")\n",
    "plt.grid(True)  \n",
    "plt.show()\n",
    "\n",
    "# Descriptive Statistics\n",
    "df[\"Sea Level Rise (mm)\"].describe()\n"
   ]
  },
  {
   "cell_type": "markdown",
   "metadata": {},
   "source": [
    "#### Univariate Analysis for Arctic Ice Area (million km²)"
   ]
  },
  {
   "cell_type": "code",
   "execution_count": null,
   "metadata": {},
   "outputs": [],
   "source": [
    "plt.figure(figsize=(10, 6))\n",
    "sns.lineplot(x=df[\"Year\"], y=df[\"Arctic Ice Area (million km²)\"], marker=\"o\")\n",
    "plt.xlabel(\"Year\")\n",
    "plt.ylabel(\"million km²\")\n",
    "plt.title(\"Changes in Arctic Ice Area\")\n",
    "plt.grid(True) \n",
    "plt.show()\n",
    "\n",
    "# Descriptive Statistics\n",
    "df[\"Arctic Ice Area (million km²)\"].describe()"
   ]
  },
  {
   "cell_type": "markdown",
   "metadata": {},
   "source": [
    "## 3. Bivariate Analysis\n",
    "\n",
    "Explore relationships between pairs of climate variables."
   ]
  },
  {
   "cell_type": "code",
   "execution_count": null,
   "metadata": {},
   "outputs": [],
   "source": [
    "# TODO: Perform bivariate analysis\n",
    "# Include correlation analysis and appropriate visualizations\n",
    "# Your code here"
   ]
  },
  {
   "cell_type": "markdown",
   "metadata": {},
   "source": [
    "#### Relation between CO2 Concentration  and  Global Average Temperature"
   ]
  },
  {
   "cell_type": "code",
   "execution_count": null,
   "metadata": {},
   "outputs": [],
   "source": [
    "plt.figure(figsize=(8, 5))\n",
    "sns.scatterplot(x=df[\"CO2 Concentration (ppm)\"], y=df[\"Global Average Temperature (°C)\"], color=\"blue\", alpha=0.6)\n",
    "plt.xlabel(\"CO2 Concentration (ppm)\")\n",
    "plt.ylabel(\"Global Average Temperature (°C)\")\n",
    "plt.title(\"CO2 vs. Global Temperature\")\n",
    "plt.grid(True)\n",
    "plt.show()   \n",
    "\n",
    "# Display the correlation between two specific variables\n",
    "correlation = df[\"CO2 Concentration (ppm)\"].corr(df[\"Global Average Temperature (°C)\"])\n",
    "print(f\"Correlation between CO2 and Global Temperature: {correlation:.2f}\")"
   ]
  },
  {
   "cell_type": "markdown",
   "metadata": {},
   "source": [
    "#### Relation between  Sea Level Rise (mm) and  Arctic Ice Area (million km²)"
   ]
  },
  {
   "cell_type": "code",
   "execution_count": null,
   "metadata": {},
   "outputs": [],
   "source": [
    "plt.figure(figsize=(8, 5))\n",
    "sns.scatterplot(x=df[\"Sea Level Rise (mm)\"], y=df[\"Arctic Ice Area (million km²)\"], color=\"blue\", alpha=0.6)\n",
    "plt.xlabel(\"Arctic Ice Area (million km²)\")\n",
    "plt.ylabel(\"Sea Level Rise (mm)\")\n",
    "plt.title(\"Effect of Arctic Ice Area (million km²) on Sea Level Rise (mm)\")\n",
    "plt.grid(True)\n",
    "plt.show()   \n",
    "\n",
    "# Display the correlation between two specific variables\n",
    "correlation = df[\"Arctic Ice Area (million km²)\"].corr(df[\"Sea Level Rise (mm)\"])\n",
    "print(f\"Correlation between Arctic Ice area and Sea Level Rise: {correlation:.2f}\")"
   ]
  },
  {
   "cell_type": "markdown",
   "metadata": {},
   "source": [
    "#### Change in variables in relation to each other over time"
   ]
  },
  {
   "cell_type": "code",
   "execution_count": null,
   "metadata": {},
   "outputs": [],
   "source": [
    "# Arctic Ice Area over time\n",
    "sns.lineplot(x=df[\"Year\"], y=df[\"Arctic Ice Area (million km²)\"], ax=ax[0], marker=\"o\", color=\"blue\")\n",
    "ax[0].set_ylabel(\"Arctic Ice Area (million km²)\")\n",
    "ax[0].set_title(\"Arctic Ice Area Over Time\")\n",
    "ax[0].grid(True)\n",
    "\n",
    "# Sea Level Rise over time\n",
    "sns.lineplot(x=df[\"Year\"], y=df[\"Sea Level Rise (mm)\"], ax=ax[1], marker=\"s\", color=\"green\")\n",
    "ax[1].set_ylabel(\"Sea Level Rise (mm)\")\n",
    "ax[1].set_title(\"Sea Level Rise Over Time\")\n",
    "ax[1].grid(True)\n",
    "\n",
    "# Global Average Temperature over time\n",
    "sns.lineplot(x=df[\"Year\"], y=df[\"Global Average Temperature (°C)\"], ax=ax[2], marker=\"d\", color=\"red\")\n",
    "ax[2].set_ylabel(\"Global Temperature (°C)\")\n",
    "ax[2].set_title(\"Global Temperature Over Time\")\n",
    "ax[2].grid(True)\n",
    "\n",
    "plt.xlabel(\"Year\")\n",
    "plt.show()"
   ]
  },
  {
   "cell_type": "markdown",
   "metadata": {},
   "source": [
    "#### Correlation heatmap for given Variables"
   ]
  },
  {
   "cell_type": "code",
   "execution_count": null,
   "metadata": {},
   "outputs": [],
   "source": [
    "\n",
    "# Select the relevant columns for correlation\n",
    "selected_columns = [\"CO2 Concentration (ppm)\", \"Global Average Temperature (°C)\"]\n",
    "\n",
    "# Compute the correlation matrix for the selected columns\n",
    "correlation_matrix = df[selected_columns].corr()\n",
    "\n",
    "# Plot the heatmap\n",
    "plt.figure(figsize=(8, 6))  # Set the figure size\n",
    "sns.heatmap(correlation_matrix, annot=True, cmap=\"coolwarm\", fmt=\".2f\", linewidths=0.5)\n",
    "plt.title(\"Correlation Heatmap of Selected Variables\")\n",
    "plt.show()"
   ]
  },
  {
   "cell_type": "markdown",
   "metadata": {},
   "source": [
    "## 4. Multivariate Analysis\n",
    "\n",
    "Investigate relationships among three or more variables."
   ]
  },
  {
   "cell_type": "code",
   "execution_count": null,
   "metadata": {},
   "outputs": [],
   "source": [
    "# TODO: Perform multivariate analysis\n",
    "# Create advanced visualizations showing multiple variables\n",
    "# Your code here"
   ]
  },
  {
   "cell_type": "code",
   "execution_count": null,
   "metadata": {},
   "outputs": [],
   "source": [
    "df[\"Decade\"] = (df[\"Year\"] // 10) * 10  # Create a \"Decade\" column\n",
    "\n",
    "g = sns.FacetGrid(df, col=\"Decade\", col_wrap=4, height=4)\n",
    "g.map_dataframe(sns.scatterplot, x=\"CO2 Concentration (ppm)\", y=\"Global Average Temperature (°C)\", alpha=0.6)\n",
    "g.set_axis_labels(\"CO₂ Concentration (ppm)\", \"Global Avg Temp (°C)\")\n",
    "g.set_titles(col_template=\"{col_name}s\")\n",
    "plt.show()"
   ]
  },
  {
   "cell_type": "markdown",
   "metadata": {},
   "source": [
    "## 5. Conclusions and Insights\n",
    "\n",
    "Summarize your findings and discuss their implications."
   ]
  },
  {
   "cell_type": "markdown",
   "metadata": {},
   "source": [
    "# TODO: Write your conclusions here\n",
    "1. CO2 concentration is rising rapidly over the years.\n",
    "2. There is positive Correlation in CO2 emission and global temperature.\n",
    "3. Increase in global temperature has given rise to decrease of Arctic Ice cover which is reflected in rise in sea level."
   ]
  },
  {
   "cell_type": "code",
   "execution_count": null,
   "metadata": {},
   "outputs": [],
   "source": []
  }
 ],
 "metadata": {
  "kernelspec": {
   "display_name": "Python 3 (ipykernel)",
   "language": "python",
   "name": "python3"
  },
  "language_info": {
   "codemirror_mode": {
    "name": "ipython",
    "version": 3
   },
   "file_extension": ".py",
   "mimetype": "text/x-python",
   "name": "python",
   "nbconvert_exporter": "python",
   "pygments_lexer": "ipython3",
   "version": "3.12.3"
  }
 },
 "nbformat": 4,
 "nbformat_minor": 4
}
